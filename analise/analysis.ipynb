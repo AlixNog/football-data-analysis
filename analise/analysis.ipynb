{
 "cells": [
  {
   "cell_type": "code",
   "execution_count": 22,
   "id": "3496637e",
   "metadata": {},
   "outputs": [],
   "source": [
    "import pandas as pd\n"
   ]
  },
  {
   "cell_type": "code",
   "execution_count": 24,
   "id": "fcf2f24f",
   "metadata": {},
   "outputs": [],
   "source": [
    "# Caminhos para a pasta data\n",
    "c1 = \"club_league.csv\"\n",
    "c2 = \"clubs.csv\"\n",
    "c3 = \"leagues.csv\"\n",
    "c4 = \"players.csv\"\n",
    "c5 = \"transfers.csv\"\n"
   ]
  },
  {
   "cell_type": "code",
   "execution_count": 25,
   "id": "06faa7c0",
   "metadata": {},
   "outputs": [],
   "source": [
    "# Leitura dos arquivos usando os caminhos\n",
    "d1 = pd.read_csv(c1, sep = \",\")\n",
    "d2 = pd.read_csv(c2, sep = \",\")\n",
    "d3 = pd.read_csv(c3, sep = \",\")\n",
    "d4 = pd.read_csv(c4, sep = \",\")\n",
    "d5 = pd.read_csv(c5, sep = \",\")\n",
    "\n"
   ]
  },
  {
   "cell_type": "code",
   "execution_count": 27,
   "id": "b4a2693d",
   "metadata": {},
   "outputs": [
    {
     "data": {
      "text/html": [
       "<div>\n",
       "<style scoped>\n",
       "    .dataframe tbody tr th:only-of-type {\n",
       "        vertical-align: middle;\n",
       "    }\n",
       "\n",
       "    .dataframe tbody tr th {\n",
       "        vertical-align: top;\n",
       "    }\n",
       "\n",
       "    .dataframe thead th {\n",
       "        text-align: right;\n",
       "    }\n",
       "</style>\n",
       "<table border=\"1\" class=\"dataframe\">\n",
       "  <thead>\n",
       "    <tr style=\"text-align: right;\">\n",
       "      <th></th>\n",
       "      <th>club_id</th>\n",
       "      <th>league_id</th>\n",
       "      <th>season</th>\n",
       "      <th>squad</th>\n",
       "      <th>market_value</th>\n",
       "    </tr>\n",
       "  </thead>\n",
       "  <tbody>\n",
       "    <tr>\n",
       "      <th>0</th>\n",
       "      <td>1</td>\n",
       "      <td>L1</td>\n",
       "      <td>1963</td>\n",
       "      <td>18</td>\n",
       "      <td>0</td>\n",
       "    </tr>\n",
       "    <tr>\n",
       "      <th>1</th>\n",
       "      <td>1</td>\n",
       "      <td>L1</td>\n",
       "      <td>1976</td>\n",
       "      <td>23</td>\n",
       "      <td>0</td>\n",
       "    </tr>\n",
       "    <tr>\n",
       "      <th>2</th>\n",
       "      <td>1</td>\n",
       "      <td>L1</td>\n",
       "      <td>1977</td>\n",
       "      <td>18</td>\n",
       "      <td>0</td>\n",
       "    </tr>\n",
       "    <tr>\n",
       "      <th>3</th>\n",
       "      <td>1</td>\n",
       "      <td>L1</td>\n",
       "      <td>1985</td>\n",
       "      <td>25</td>\n",
       "      <td>0</td>\n",
       "    </tr>\n",
       "    <tr>\n",
       "      <th>4</th>\n",
       "      <td>1</td>\n",
       "      <td>L1</td>\n",
       "      <td>1992</td>\n",
       "      <td>26</td>\n",
       "      <td>0</td>\n",
       "    </tr>\n",
       "  </tbody>\n",
       "</table>\n",
       "</div>"
      ],
      "text/plain": [
       "   club_id league_id  season  squad  market_value\n",
       "0        1        L1    1963     18             0\n",
       "1        1        L1    1976     23             0\n",
       "2        1        L1    1977     18             0\n",
       "3        1        L1    1985     25             0\n",
       "4        1        L1    1992     26             0"
      ]
     },
     "execution_count": 27,
     "metadata": {},
     "output_type": "execute_result"
    }
   ],
   "source": [
    "d1.head()"
   ]
  },
  {
   "cell_type": "code",
   "execution_count": 29,
   "id": "e1e6c28a",
   "metadata": {},
   "outputs": [
    {
     "data": {
      "text/html": [
       "<div>\n",
       "<style scoped>\n",
       "    .dataframe tbody tr th:only-of-type {\n",
       "        vertical-align: middle;\n",
       "    }\n",
       "\n",
       "    .dataframe tbody tr th {\n",
       "        vertical-align: top;\n",
       "    }\n",
       "\n",
       "    .dataframe thead th {\n",
       "        text-align: right;\n",
       "    }\n",
       "</style>\n",
       "<table border=\"1\" class=\"dataframe\">\n",
       "  <thead>\n",
       "    <tr style=\"text-align: right;\">\n",
       "      <th></th>\n",
       "      <th>id</th>\n",
       "      <th>url</th>\n",
       "      <th>club_name</th>\n",
       "      <th>id_current_league</th>\n",
       "      <th>current_mv</th>\n",
       "    </tr>\n",
       "  </thead>\n",
       "  <tbody>\n",
       "    <tr>\n",
       "      <th>0</th>\n",
       "      <td>-5</td>\n",
       "      <td>https://www.transfermarkt.com</td>\n",
       "      <td>Retired</td>\n",
       "      <td>NaN</td>\n",
       "      <td>0</td>\n",
       "    </tr>\n",
       "    <tr>\n",
       "      <th>1</th>\n",
       "      <td>1</td>\n",
       "      <td>https://www.transfermarkt.com/1-fc-saarbrucken...</td>\n",
       "      <td>1.FC Saarbrücken</td>\n",
       "      <td>L3</td>\n",
       "      <td>7380000</td>\n",
       "    </tr>\n",
       "    <tr>\n",
       "      <th>2</th>\n",
       "      <td>2</td>\n",
       "      <td>https://www.transfermarkt.com/1-fc-kaiserslaut...</td>\n",
       "      <td>1.FC Kaiserslautern</td>\n",
       "      <td>L2</td>\n",
       "      <td>20450000</td>\n",
       "    </tr>\n",
       "    <tr>\n",
       "      <th>3</th>\n",
       "      <td>3</td>\n",
       "      <td>https://www.transfermarkt.com/1-fc-koln/starts...</td>\n",
       "      <td>1.FC Köln</td>\n",
       "      <td>L2</td>\n",
       "      <td>69700000</td>\n",
       "    </tr>\n",
       "    <tr>\n",
       "      <th>4</th>\n",
       "      <td>4</td>\n",
       "      <td>https://www.transfermarkt.com/1-fc-nurnberg/st...</td>\n",
       "      <td>1.FC Nuremberg</td>\n",
       "      <td>L2</td>\n",
       "      <td>26700000</td>\n",
       "    </tr>\n",
       "  </tbody>\n",
       "</table>\n",
       "</div>"
      ],
      "text/plain": [
       "   id                                                url            club_name  \\\n",
       "0  -5                      https://www.transfermarkt.com              Retired   \n",
       "1   1  https://www.transfermarkt.com/1-fc-saarbrucken...     1.FC Saarbrücken   \n",
       "2   2  https://www.transfermarkt.com/1-fc-kaiserslaut...  1.FC Kaiserslautern   \n",
       "3   3  https://www.transfermarkt.com/1-fc-koln/starts...            1.FC Köln   \n",
       "4   4  https://www.transfermarkt.com/1-fc-nurnberg/st...       1.FC Nuremberg   \n",
       "\n",
       "  id_current_league  current_mv  \n",
       "0               NaN           0  \n",
       "1                L3     7380000  \n",
       "2                L2    20450000  \n",
       "3                L2    69700000  \n",
       "4                L2    26700000  "
      ]
     },
     "execution_count": 29,
     "metadata": {},
     "output_type": "execute_result"
    }
   ],
   "source": [
    "d2.head()\n"
   ]
  }
 ],
 "metadata": {
  "kernelspec": {
   "display_name": "Python 3",
   "language": "python",
   "name": "python3"
  },
  "language_info": {
   "codemirror_mode": {
    "name": "ipython",
    "version": 3
   },
   "file_extension": ".py",
   "mimetype": "text/x-python",
   "name": "python",
   "nbconvert_exporter": "python",
   "pygments_lexer": "ipython3",
   "version": "3.13.6"
  }
 },
 "nbformat": 4,
 "nbformat_minor": 5
}
