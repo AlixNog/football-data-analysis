{
 "cells": [
  {
   "cell_type": "code",
   "execution_count": null,
   "id": "3496637e",
   "metadata": {},
   "outputs": [],
   "source": [
    "import pandas as pd\n",
    "\n",
    "# Caminhos para a pasta data\n",
    "c1 = \"data/club_league.csv\"\n",
    "c2 = \"data/clubs.csv\"\n",
    "c3 = \"data/leagues.csv\"\n",
    "c4 = \"data/players.csv\"\n",
    "c5 = \"data/transfers.csv\"\n",
    "\n",
    "# Leitura dos arquivos usando os caminhos\n",
    "d1 = pd.read_csv(c1, sep=';')\n",
    "d2 = pd.read_csv(c2, sep=';')\n",
    "d3 = pd.read_csv(c3, sep=';')\n",
    "d4 = pd.read_csv(c4, sep=';')\n",
    "d5 = pd.read_csv(c5, sep=';')\n",
    "\n",
    "print(d1.head())\n",
    "print(d2.head())\n",
    "print(d3.head())\n",
    "print(d4.head())\n",
    "print(d5.head())"
   ]
  }
 ],
 "metadata": {
  "kernelspec": {
   "display_name": "Python 3",
   "language": "python",
   "name": "python3"
  },
  "language_info": {
   "name": "python",
   "version": "3.13.6"
  }
 },
 "nbformat": 4,
 "nbformat_minor": 5
}
